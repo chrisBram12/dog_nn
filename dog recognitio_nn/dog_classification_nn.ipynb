{
 "cells": [
  {
   "cell_type": "code",
   "execution_count": 5,
   "id": "d521d30f-8c17-43e3-9a1c-a2a27d077874",
   "metadata": {},
   "outputs": [
    {
     "name": "stdout",
     "output_type": "stream",
     "text": [
      "Found 40 images belonging to 2 classes.\n",
      "Found 10 images belonging to 2 classes.\n",
      "Epoch 1/10\n",
      "2/2 [==============================] - 0s 250ms/step - loss: 1.0934 - accuracy: 0.5500 - val_loss: 0.3525 - val_accuracy: 1.0000\n",
      "Epoch 2/10\n",
      "2/2 [==============================] - 0s 96ms/step - loss: 0.8183 - accuracy: 0.3250 - val_loss: 0.9834 - val_accuracy: 0.0000e+00\n",
      "Epoch 3/10\n",
      "2/2 [==============================] - 0s 209ms/step - loss: 0.7414 - accuracy: 0.4250 - val_loss: 0.8035 - val_accuracy: 0.0000e+00\n",
      "Epoch 4/10\n",
      "2/2 [==============================] - 0s 196ms/step - loss: 0.7014 - accuracy: 0.4250 - val_loss: 0.7420 - val_accuracy: 0.0000e+00\n",
      "Epoch 5/10\n",
      "2/2 [==============================] - 0s 187ms/step - loss: 0.6941 - accuracy: 0.4250 - val_loss: 0.7051 - val_accuracy: 0.1000\n",
      "Epoch 6/10\n",
      "2/2 [==============================] - 0s 38ms/step - loss: 0.6901 - accuracy: 0.6000 - val_loss: 0.6763 - val_accuracy: 0.9000\n",
      "Epoch 7/10\n",
      "2/2 [==============================] - 0s 96ms/step - loss: 0.6817 - accuracy: 0.6500 - val_loss: 0.6605 - val_accuracy: 1.0000\n",
      "Epoch 8/10\n",
      "2/2 [==============================] - 0s 198ms/step - loss: 0.6750 - accuracy: 0.7000 - val_loss: 0.6700 - val_accuracy: 0.8000\n",
      "Epoch 9/10\n",
      "2/2 [==============================] - 0s 41ms/step - loss: 0.6687 - accuracy: 0.7000 - val_loss: 0.5978 - val_accuracy: 1.0000\n",
      "Epoch 10/10\n",
      "2/2 [==============================] - 0s 40ms/step - loss: 0.6449 - accuracy: 0.5750 - val_loss: 0.4247 - val_accuracy: 1.0000\n",
      "1/1 [==============================] - 0s 34ms/step - loss: 0.4247 - accuracy: 1.0000\n",
      "Test Accuracy: 100.00%\n"
     ]
    }
   ],
   "source": [
    "import tensorflow as tf\n",
    "from tensorflow.keras.models import Sequential\n",
    "from tensorflow.keras.layers import Conv2D, MaxPooling2D, Flatten, Dense\n",
    "from tensorflow.keras.preprocessing.image import ImageDataGenerator\n",
    "import os\n",
    "\n",
    "# Check if .ipynb_checkpoints exists and remove it\n",
    "checkpoints_path_train = 'dog_pt/.ipynb_checkpoints'\n",
    "if os.path.exists(checkpoints_path_train):\n",
    "    os.rmdir(checkpoints_path_train)\n",
    "\n",
    "checkpoints_path_test = 'dog_test/.ipynb_checkpoints'\n",
    "if os.path.exists(checkpoints_path_test):\n",
    "    os.rmdir(checkpoints_path_test)\n",
    "\n",
    "\n",
    "# Data augmentation for training data\n",
    "train_datagen = ImageDataGenerator(rescale=1./255,\n",
    "                                   shear_range=0.2,\n",
    "                                   zoom_range=0.2,\n",
    "                                   horizontal_flip=True)\n",
    "\n",
    "test_datagen = ImageDataGenerator(rescale=1./255) # No augmentation on test data\n",
    "\n",
    "# Point to the training data directory\n",
    "train_set = train_datagen.flow_from_directory('dog_pt',\n",
    "                                              target_size=(64, 64),\n",
    "                                              batch_size=32,\n",
    "                                              class_mode='binary') \n",
    "\n",
    "# Point to the test data directory\n",
    "test_set = test_datagen.flow_from_directory('dog_test',\n",
    "                                            target_size=(64, 64),\n",
    "                                            batch_size=32,\n",
    "                                            class_mode='binary',\n",
    "                                            shuffle=False) # Avoid shuffling for consistent evaluation\n",
    "\n",
    "# Define the neural network\n",
    "model = Sequential()\n",
    "\n",
    "# Add convolutional layers\n",
    "model.add(Conv2D(32, (3, 3), input_shape=(64, 64, 3), activation='relu'))\n",
    "model.add(MaxPooling2D(pool_size=(2, 2)))\n",
    "model.add(Conv2D(32, (3, 3), activation='relu'))\n",
    "model.add(MaxPooling2D(pool_size=(2, 2)))\n",
    "\n",
    "# Flattening\n",
    "model.add(Flatten())\n",
    "\n",
    "# Full connection\n",
    "model.add(Dense(units=128, activation='relu'))\n",
    "model.add(Dense(units=1, activation='sigmoid')) # Binary output: Great Dane or German Shepherd\n",
    "\n",
    "# Compile the model\n",
    "model.compile(optimizer='adam', loss='binary_crossentropy', metrics=['accuracy'])\n",
    "\n",
    "# Train the model\n",
    "model.fit(train_set, validation_data=test_set, epochs=10)\n",
    "\n",
    "# Evaluate the model on test data\n",
    "loss, accuracy = model.evaluate(test_set)\n",
    "print(f\"Test Accuracy: {accuracy*100:.2f}%\")\n",
    "\n",
    "# Save the model (optional)\n",
    "model.save('dog_classifier_model.h5')\n"
   ]
  },
  {
   "cell_type": "code",
   "execution_count": 2,
   "id": "81d20922-d9c3-4842-bc68-7357bc29e6ec",
   "metadata": {},
   "outputs": [
    {
     "name": "stdout",
     "output_type": "stream",
     "text": [
      "{'.ipynb_checkpoints': 0, 'German_shepard': 1, 'great_dane': 2}\n"
     ]
    }
   ],
   "source": [
    "print(train_set.class_indices)\n"
   ]
  },
  {
   "cell_type": "code",
   "execution_count": 3,
   "id": "cd4ffd15-73a0-4d72-8cbb-98baf850797f",
   "metadata": {},
   "outputs": [
    {
     "ename": "SyntaxError",
     "evalue": "invalid syntax (2765151288.py, line 1)",
     "output_type": "error",
     "traceback": [
      "\u001b[0;36m  Cell \u001b[0;32mIn[3], line 1\u001b[0;36m\u001b[0m\n\u001b[0;31m    rm -r dog_pt/.ipynb_checkpoints\u001b[0m\n\u001b[0m          ^\u001b[0m\n\u001b[0;31mSyntaxError\u001b[0m\u001b[0;31m:\u001b[0m invalid syntax\n"
     ]
    }
   ],
   "source": [
    "\n",
    "\n"
   ]
  },
  {
   "cell_type": "code",
   "execution_count": null,
   "id": "586bdb17-bb08-45cc-9542-d4b94dd74fff",
   "metadata": {},
   "outputs": [],
   "source": []
  }
 ],
 "metadata": {
  "kernelspec": {
   "display_name": "Python 3 (ipykernel)",
   "language": "python",
   "name": "python3"
  },
  "language_info": {
   "codemirror_mode": {
    "name": "ipython",
    "version": 3
   },
   "file_extension": ".py",
   "mimetype": "text/x-python",
   "name": "python",
   "nbconvert_exporter": "python",
   "pygments_lexer": "ipython3",
   "version": "3.10.9"
  }
 },
 "nbformat": 4,
 "nbformat_minor": 5
}
